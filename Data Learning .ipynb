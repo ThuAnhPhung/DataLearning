{
 "cells": [
  {
   "cell_type": "markdown",
   "metadata": {},
   "source": [
    "# Data Learning Final Assignment\n",
    "\n",
    "#### For this assignment, I will predict how many songs are played in a day based on the weather condition. The datasets used are the personal Spotify streaming history and the weather data from The Royal Netherlands Meteorological Institute (KNMI) (https://www.knmi.nl/home).\n"
   ]
  },
  {
   "cell_type": "markdown",
   "metadata": {},
   "source": [
    "### 1. Data cleaning"
   ]
  },
  {
   "cell_type": "code",
   "execution_count": null,
   "metadata": {},
   "outputs": [],
   "source": [
    "import pandas as pd\n",
    "from datetime import datetime\n",
    "\n",
    "# Weather data cleaning \n",
    "df_weather = pd.read_csv('weather data.csv')\n",
    "df_weather = df_weather[['YYYYMMDD', 'FG', 'TG', 'TN', 'TX', 'SQ']] # Select columns that will be used \n",
    "df_weather[\"YYYYMMDD\"] = pd.to_datetime(df_weather[\"YYYYMMDD\"]) # Change data type to datetime\n",
    "df_weather = df_weather.rename(columns = {'YYYYMMDD': 'Date', 'FG': 'Mean Windspeed (in 0.1 m/s)', \n",
    "                                          'TG': 'Mean temperature in (0.1 degrees Celsius)', \n",
    "                                          'TN': 'Min temperature (in 0.1 degrees Celsius)', \n",
    "                                          'TX': 'Max temperature (in 0.1 degrees Celsius)', \n",
    "                                          'SQ': 'Sunshine duration (in 0.1 hour)'}, inplace = False)\n",
    "\n",
    "# Spotify data cleaning\n",
    "df_spotify = pd.read_json('StreamingHistory0.json')\n",
    "df_spotify.to_csv ('StreamingHistory.csv', index = None)\n"
   ]
  }
 ],
 "metadata": {
  "kernelspec": {
   "display_name": "Python 3",
   "language": "python",
   "name": "python3"
  },
  "language_info": {
   "codemirror_mode": {
    "name": "ipython",
    "version": 3
   },
   "file_extension": ".py",
   "mimetype": "text/x-python",
   "name": "python",
   "nbconvert_exporter": "python",
   "pygments_lexer": "ipython3",
   "version": "3.8.5"
  }
 },
 "nbformat": 4,
 "nbformat_minor": 4
}
